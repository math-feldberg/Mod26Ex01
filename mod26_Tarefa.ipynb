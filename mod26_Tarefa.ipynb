{
 "cells": [
  {
   "cell_type": "markdown",
   "metadata": {},
   "source": [
    "# Tarefa - Álgebra Linear\n",
    "\n",
    "A célula abaixo gera dados de notas de duas provas, p1 e p2, conforme em aula, mas com mais alunos.\n",
    "\n",
    "## 1. Reduzindo correlações\n",
    "\n",
    "a) Já vimos que expressar os dados através da média e diferença é uma transformação linear. Obtenha a média e a diferença através de uma multiplicação matricial, conforme visto em aula.\n",
    "\n",
    "b) Calcule a correlação entre os dados da **p1** e **p2**\n",
    "\n",
    "c) Calcule a correlação entre os dados transformados (média e diferença)\n",
    "\n",
    "d) Comente as correlações observadas."
   ]
  },
  {
   "cell_type": "code",
   "execution_count": 56,
   "metadata": {},
   "outputs": [
    {
     "data": {
      "text/html": [
       "<div>\n",
       "<style scoped>\n",
       "    .dataframe tbody tr th:only-of-type {\n",
       "        vertical-align: middle;\n",
       "    }\n",
       "\n",
       "    .dataframe tbody tr th {\n",
       "        vertical-align: top;\n",
       "    }\n",
       "\n",
       "    .dataframe thead th {\n",
       "        text-align: right;\n",
       "    }\n",
       "</style>\n",
       "<table border=\"1\" class=\"dataframe\">\n",
       "  <thead>\n",
       "    <tr style=\"text-align: right;\">\n",
       "      <th></th>\n",
       "      <th>p1</th>\n",
       "      <th>p2</th>\n",
       "    </tr>\n",
       "  </thead>\n",
       "  <tbody>\n",
       "    <tr>\n",
       "      <th>0</th>\n",
       "      <td>6.964692</td>\n",
       "      <td>7.943428</td>\n",
       "    </tr>\n",
       "    <tr>\n",
       "      <th>1</th>\n",
       "      <td>2.861393</td>\n",
       "      <td>5.099537</td>\n",
       "    </tr>\n",
       "    <tr>\n",
       "      <th>2</th>\n",
       "      <td>2.268515</td>\n",
       "      <td>0.974429</td>\n",
       "    </tr>\n",
       "    <tr>\n",
       "      <th>3</th>\n",
       "      <td>5.513148</td>\n",
       "      <td>4.474359</td>\n",
       "    </tr>\n",
       "    <tr>\n",
       "      <th>4</th>\n",
       "      <td>7.194690</td>\n",
       "      <td>8.938402</td>\n",
       "    </tr>\n",
       "  </tbody>\n",
       "</table>\n",
       "</div>"
      ],
      "text/plain": [
       "         p1        p2\n",
       "0  6.964692  7.943428\n",
       "1  2.861393  5.099537\n",
       "2  2.268515  0.974429\n",
       "3  5.513148  4.474359\n",
       "4  7.194690  8.938402"
      ]
     },
     "execution_count": 56,
     "metadata": {},
     "output_type": "execute_result"
    }
   ],
   "source": [
    "import pandas as pd\n",
    "import seaborn as sns\n",
    "import numpy as np\n",
    "import matplotlib.pyplot as plt\n",
    "\n",
    "%matplotlib inline\n",
    "\n",
    "# Gerando os dados\n",
    "np.random.seed(123)\n",
    "\n",
    "p1 = np.random.random(50) *10\n",
    "p1[p1>10] = 10\n",
    "p1[p1<0] = 0\n",
    "\n",
    "p2 = p1 + np.random.normal(0,1,50)\n",
    "p2[p2>10] = 10\n",
    "p2[p2<0] = 0\n",
    "\n",
    "df = pd.DataFrame({'p1': p1, 'p2': p2})\n",
    "df.head()"
   ]
  },
  {
   "cell_type": "markdown",
   "metadata": {},
   "source": [
    "a) Já vimos que expressar os dados através da média e diferença é uma transformação linear. Obtenha a média e a diferença através de uma multiplicação matricial, conforme visto em aula:"
   ]
  },
  {
   "cell_type": "code",
   "execution_count": 60,
   "metadata": {},
   "outputs": [
    {
     "data": {
      "text/html": [
       "<div>\n",
       "<style scoped>\n",
       "    .dataframe tbody tr th:only-of-type {\n",
       "        vertical-align: middle;\n",
       "    }\n",
       "\n",
       "    .dataframe tbody tr th {\n",
       "        vertical-align: top;\n",
       "    }\n",
       "\n",
       "    .dataframe thead th {\n",
       "        text-align: right;\n",
       "    }\n",
       "</style>\n",
       "<table border=\"1\" class=\"dataframe\">\n",
       "  <thead>\n",
       "    <tr style=\"text-align: right;\">\n",
       "      <th></th>\n",
       "      <th>p1</th>\n",
       "      <th>p2</th>\n",
       "      <th>média</th>\n",
       "      <th>diferença</th>\n",
       "    </tr>\n",
       "  </thead>\n",
       "  <tbody>\n",
       "    <tr>\n",
       "      <th>0</th>\n",
       "      <td>6.964692</td>\n",
       "      <td>7.943428</td>\n",
       "      <td>5.329344</td>\n",
       "      <td>0.978736</td>\n",
       "    </tr>\n",
       "    <tr>\n",
       "      <th>1</th>\n",
       "      <td>2.861393</td>\n",
       "      <td>5.099537</td>\n",
       "      <td>3.408766</td>\n",
       "      <td>2.238143</td>\n",
       "    </tr>\n",
       "    <tr>\n",
       "      <th>2</th>\n",
       "      <td>2.268515</td>\n",
       "      <td>0.974429</td>\n",
       "      <td>0.664805</td>\n",
       "      <td>-1.294085</td>\n",
       "    </tr>\n",
       "    <tr>\n",
       "      <th>3</th>\n",
       "      <td>5.513148</td>\n",
       "      <td>4.474359</td>\n",
       "      <td>3.014326</td>\n",
       "      <td>-1.038788</td>\n",
       "    </tr>\n",
       "    <tr>\n",
       "      <th>4</th>\n",
       "      <td>7.194690</td>\n",
       "      <td>8.938402</td>\n",
       "      <td>5.991866</td>\n",
       "      <td>1.743712</td>\n",
       "    </tr>\n",
       "  </tbody>\n",
       "</table>\n",
       "</div>"
      ],
      "text/plain": [
       "         p1        p2     média  diferença\n",
       "0  6.964692  7.943428  5.329344   0.978736\n",
       "1  2.861393  5.099537  3.408766   2.238143\n",
       "2  2.268515  0.974429  0.664805  -1.294085\n",
       "3  5.513148  4.474359  3.014326  -1.038788\n",
       "4  7.194690  8.938402  5.991866   1.743712"
      ]
     },
     "execution_count": 60,
     "metadata": {},
     "output_type": "execute_result"
    }
   ],
   "source": [
    "# Calculando média e evolução\n",
    "df['média'] = df.mean(axis=1)\n",
    "df['diferença'] = df.p2-df.p1\n",
    "df1 = df.style.format(precision=1, decimal=',')\n",
    "df = df1.data\n",
    "df.head()"
   ]
  },
  {
   "cell_type": "markdown",
   "metadata": {},
   "source": [
    "b) Calcule a correlação entre os dados da **p1** e **p2**:"
   ]
  },
  {
   "cell_type": "code",
   "execution_count": 39,
   "metadata": {},
   "outputs": [],
   "source": [
    "from scipy.stats import pearsonr "
   ]
  },
  {
   "cell_type": "code",
   "execution_count": 61,
   "metadata": {},
   "outputs": [
    {
     "name": "stdout",
     "output_type": "stream",
     "text": [
      "Pearsons correlation: 0.896\n"
     ]
    }
   ],
   "source": [
    "list1 = df['p1'] \n",
    "list2 = df['p2'] \n",
    "corr, _ = pearsonr(list1, list2) \n",
    "\n",
    "print('Pearsons correlation: %.3f' % corr)   "
   ]
  },
  {
   "cell_type": "markdown",
   "metadata": {},
   "source": [
    "c) Calcule a correlação entre os dados transformados (média e diferença):"
   ]
  },
  {
   "cell_type": "code",
   "execution_count": 62,
   "metadata": {},
   "outputs": [
    {
     "name": "stdout",
     "output_type": "stream",
     "text": [
      "Pearsons correlation: 0.345\n"
     ]
    }
   ],
   "source": [
    "list1 = df['média'] \n",
    "list2 = df['diferença'] \n",
    "corr, _ = pearsonr(list1, list2) \n",
    "\n",
    "print('Pearsons correlation: %.3f' % corr)   "
   ]
  },
  {
   "cell_type": "markdown",
   "metadata": {},
   "source": [
    "d) Comente as correlações observadas:"
   ]
  },
  {
   "cell_type": "markdown",
   "metadata": {},
   "source": [
    "Sobre o Coeficiente de Correlaçao de Pearson, temos que:\n",
    "\n",
    "* 0.9 para mais ou para menos indica uma correlação muito forte.\n",
    "* 0.7 a 0.9 positivo ou negativo indica uma correlação forte.\n",
    "* 0.5 a 0.7 positivo ou negativo indica uma correlação moderada.\n",
    "* 0.3 a 0.5 positivo ou negativo indica uma correlação fraca.\n",
    "* 0 a 0.3 positivo ou negativo indica uma correlação desprezível.\n",
    "\n",
    "Fonte: https://pt.wikipedia.org/wiki/Coeficiente_de_correla%C3%A7%C3%A3o_de_Pearson\n",
    "\n",
    "R. Logo, a correlação entre p1 e p2 (0,896) é mais forte do que a correção entre média e diferença (0,345)."
   ]
  },
  {
   "cell_type": "markdown",
   "metadata": {},
   "source": [
    "## 2. Soma e diferença\n",
    "\n",
    "Realize agora uma transformação semelhante, mas que ao invés da média, dê a soma da **p1** e **p2**. Construa o gráfico e conclua que diferenças visuais você observa."
   ]
  },
  {
   "cell_type": "code",
   "execution_count": 85,
   "metadata": {},
   "outputs": [],
   "source": [
    "df['soma'] = df['p1'] + df['p2']"
   ]
  },
  {
   "cell_type": "code",
   "execution_count": 89,
   "metadata": {},
   "outputs": [],
   "source": [
    "def translin_v2(m):\n",
    "    fig = plt.figure(figsize=(10, 10))\n",
    "    ax = fig.add_subplot(1,1,1)\n",
    "\n",
    "    xmin = -2\n",
    "    xmax = df.p1.max()*1.1\n",
    "    ymin = -2\n",
    "    ymax = df.p2.max()*1.1\n",
    "\n",
    "    ax.axis('equal')\n",
    "    ax.set_aspect('equal', 'box')\n",
    "    ax.set(xlim=(xmin, xmax), ylim=(ymin, ymax))\n",
    "\n",
    "    lista_xticks = list(range(int(xmin), int(xmax)+1))\n",
    "    ticksx = ax.set_xticks(lista_xticks)\n",
    "    labelsx = ax.set_xticklabels(lista_xticks, fontsize='large')\n",
    "\n",
    "    lista_yticks = list(range(int(ymin), int(ymax)+1))\n",
    "    ticksy = ax.set_yticks(lista_yticks)\n",
    "    labelsy = ax.set_yticklabels(lista_yticks, fontsize='large')\n",
    "\n",
    "    ax.axvline(0, linewidth=.5, linestyle='--')\n",
    "    ax.axhline(0, linewidth=.5, linestyle='--')\n",
    "\n",
    "    ax.arrow(0, 0, m[0,0], m[0,1]\n",
    "             , head_width=0.25\n",
    "             , head_length=0.1\n",
    "             , fc='g', ec='g', \n",
    "             length_includes_head=True)\n",
    "\n",
    "    ax.arrow(0, 0, m[1,0], m[1,1]\n",
    "             , head_width=0.25\n",
    "             , head_length=0.1\n",
    "             , fc='r', ec='r', \n",
    "             length_includes_head=True)\n",
    "\n",
    "    plt.scatter(x =  df['p1'], y=df['p2'], label = 'originais')\n",
    "    plt.scatter(x = df['soma'], y=df['média'], label = 'transformados')\n",
    "\n",
    "    ax.legend(loc='upper left')"
   ]
  },
  {
   "cell_type": "code",
   "execution_count": 90,
   "metadata": {},
   "outputs": [
    {
     "data": {
      "image/png": "[encoded data removed]",
      "text/plain": [
       "<Figure size 1000x1000 with 1 Axes>"
      ]
     },
     "metadata": {},
     "output_type": "display_data"
    }
   ],
   "source": [
    "t = np.array([[ .5, .5],\n",
    "              [ -1, 1]])\n",
    "translin_v2(t)"
   ]
  },
  {
   "cell_type": "code",
   "execution_count": 91,
   "metadata": {},
   "outputs": [],
   "source": [
    "def translin_v2(m):\n",
    "    fig = plt.figure(figsize=(10, 10))\n",
    "    ax = fig.add_subplot(1,1,1)\n",
    "\n",
    "    xmin = -2\n",
    "    xmax = df.p1.max()*1.1\n",
    "    ymin = -2\n",
    "    ymax = df.p2.max()*1.1\n",
    "\n",
    "    ax.axis('equal')\n",
    "    ax.set_aspect('equal', 'box')\n",
    "    ax.set(xlim=(xmin, xmax), ylim=(ymin, ymax))\n",
    "\n",
    "    lista_xticks = list(range(int(xmin), int(xmax)+1))\n",
    "    ticksx = ax.set_xticks(lista_xticks)\n",
    "    labelsx = ax.set_xticklabels(lista_xticks, fontsize='large')\n",
    "\n",
    "    lista_yticks = list(range(int(ymin), int(ymax)+1))\n",
    "    ticksy = ax.set_yticks(lista_yticks)\n",
    "    labelsy = ax.set_yticklabels(lista_yticks, fontsize='large')\n",
    "\n",
    "    ax.axvline(0, linewidth=.5, linestyle='--')\n",
    "    ax.axhline(0, linewidth=.5, linestyle='--')\n",
    "\n",
    "    ax.arrow(0, 0, m[0,0], m[0,1]\n",
    "             , head_width=0.25\n",
    "             , head_length=0.1\n",
    "             , fc='g', ec='g', \n",
    "             length_includes_head=True)\n",
    "\n",
    "    ax.arrow(0, 0, m[1,0], m[1,1]\n",
    "             , head_width=0.25\n",
    "             , head_length=0.1\n",
    "             , fc='r', ec='r', \n",
    "             length_includes_head=True)\n",
    "\n",
    "    plt.scatter(x =  df['p1'], y=df['p2'], label = 'originais')\n",
    "    plt.scatter(x = df['soma'], y=df['diferença'], label = 'transformados')\n",
    "\n",
    "    ax.legend(loc='upper left')"
   ]
  },
  {
   "cell_type": "code",
   "execution_count": 92,
   "metadata": {},
   "outputs": [
    {
     "data": {
      "image/png": "[encoded data removed]",
      "text/plain": [
       "<Figure size 1000x1000 with 1 Axes>"
      ]
     },
     "metadata": {},
     "output_type": "display_data"
    }
   ],
   "source": [
    "t = np.array([[ .5, .5],\n",
    "              [ -1, 1]])\n",
    "translin_v2(t)"
   ]
  },
  {
   "cell_type": "markdown",
   "metadata": {},
   "source": [
    "R. Pode-se observar que no 2º gráfico (df['soma'], y=df['diferença']), a distribuição dos dados \"transformados\" é predominantemente horizontal, ao contrário do 1º gráfico (df['soma'], y=df['média'])."
   ]
  }
 ],
 "metadata": {
  "kernelspec": {
   "display_name": "Python 3 (ipykernel)",
   "language": "python",
   "name": "python3"
  },
  "language_info": {
   "codemirror_mode": {
    "name": "ipython",
    "version": 3
   },
   "file_extension": ".py",
   "mimetype": "text/x-python",
   "name": "python",
   "nbconvert_exporter": "python",
   "pygments_lexer": "ipython3",
   "version": "3.9.13"
  },
  "toc": {
   "base_numbering": 1,
   "nav_menu": {},
   "number_sections": false,
   "sideBar": true,
   "skip_h1_title": false,
   "title_cell": "Índice",
   "title_sidebar": "Conteúdo",
   "toc_cell": false,
   "toc_position": {
    "height": "calc(100% - 180px)",
    "left": "10px",
    "top": "150px",
    "width": "257.6px"
   },
   "toc_section_display": true,
   "toc_window_display": false
  },
  "varInspector": {
   "cols": {
    "lenName": 16,
    "lenType": 16,
    "lenVar": 40
   },
   "kernels_config": {
    "python": {
     "delete_cmd_postfix": "",
     "delete_cmd_prefix": "del ",
     "library": "var_list.py",
     "varRefreshCmd": "print(var_dic_list())"
    },
    "r": {
     "delete_cmd_postfix": ") ",
     "delete_cmd_prefix": "rm(",
     "library": "var_list.r",
     "varRefreshCmd": "cat(var_dic_list()) "
    }
   },
   "types_to_exclude": [
    "module",
    "function",
    "builtin_function_or_method",
    "instance",
    "_Feature"
   ],
   "window_display": false
  }
 },
 "nbformat": 4,
 "nbformat_minor": 4
}
